{
 "cells": [
  {
   "cell_type": "markdown",
   "metadata": {},
   "source": [
    "Bettingpros.com posts bets where their consensus projections (typically sourced from ESPN, CBS, NFL.com, and numberFire) deviate the most from the lines offered across PointsBet, William Hill, DraftKings, FanDuel, and MGM. Importantly, these are versus the closing lines so these projections might actually be valuable depending on how much the projections and underlying opening lines most. \n",
    "\n",
    "By checking the top $50$ most highly recommended player prop bets from Bettingpros across the first $16$ weeks of the season, we can assess whether their performance is different from random. \n",
    "\n",
    "https://www.bettingpros.com/nfl/picks/prop-bets/?week=1\n",
    "\n",
    "We can calculate the standard error (standard deviation of the sampling distribution where each sample statistic is the average number of times the bet covered over $16$ weeks of betting) manually but we will leverage the law of large numbers to save us the math instead. "
   ]
  },
  {
   "cell_type": "code",
   "execution_count": 15,
   "metadata": {},
   "outputs": [],
   "source": [
    "import numpy as np\n",
    "from numpy import random as rand\n",
    "rand.seed(69)\n",
    "\n",
    "num_weeks = 16\n",
    "N = int(1e5)\n",
    "draws = rand.binomial(50, 0.5, size=(N, num_weeks))"
   ]
  },
  {
   "cell_type": "code",
   "execution_count": 13,
   "metadata": {},
   "outputs": [
    {
     "data": {
      "text/plain": [
       "array([23.25, 26.75])"
      ]
     },
     "execution_count": 13,
     "metadata": {},
     "output_type": "execute_result"
    }
   ],
   "source": [
    "Ts = draws.mean(axis=1)\n",
    "\n",
    "np.quantile(Ts, [0.025, 0.975])"
   ]
  },
  {
   "cell_type": "code",
   "execution_count": 17,
   "metadata": {},
   "outputs": [
    {
     "data": {
      "text/plain": [
       "23.8125"
      ]
     },
     "execution_count": 17,
     "metadata": {},
     "output_type": "execute_result"
    }
   ],
   "source": [
    "results = [31,23,21,25,14,20,24,26,24,23,20,24,27,29,29,21]  # number of times the bet covered; week 16 ... week 1 = order\n",
    "T = sum(results)/len(results)\n",
    "T"
   ]
  },
  {
   "cell_type": "markdown",
   "metadata": {},
   "source": [
    "Since our T statistic is contained in the $95\\%$ confidence interval, we fail to reject the null hypothesis that the performance is different from a coin flip. As a result, **we do not have evidence here that using the Bettingspros consensus rankings to place player prop pets is different from flipping a coin.**\n",
    "\n",
    "Notes:\n",
    "- Note this doesn't even begin to get into the size of the edge needed to cover the hold. \n",
    "- Still, the lines used to assess whether the bet covered were most likely the closing line\n",
    "  - Either the opening lines are very efficient or the closing lines move to adjust\n",
    "    - If the latter, then we know the player prop bet lines move\n",
    "      - If we know the lines move, then maybe there is some edge to be gained from betting on opening lines"
   ]
  }
 ],
 "metadata": {
  "kernelspec": {
   "display_name": "Python 3",
   "language": "python",
   "name": "python3"
  },
  "language_info": {
   "codemirror_mode": {
    "name": "ipython",
    "version": 3
   },
   "file_extension": ".py",
   "mimetype": "text/x-python",
   "name": "python",
   "nbconvert_exporter": "python",
   "pygments_lexer": "ipython3",
   "version": "3.7.5"
  }
 },
 "nbformat": 4,
 "nbformat_minor": 4
}
